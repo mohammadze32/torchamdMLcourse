{
  "nbformat": 4,
  "nbformat_minor": 0,
  "metadata": {
    "colab": {
      "provenance": [],
      "toc_visible": true,
      "gpuType": "T4",
      "authorship_tag": "ABX9TyOjbpo/4gsekPSQ9X3PAhMc",
      "include_colab_link": true
    },
    "kernelspec": {
      "name": "python3",
      "display_name": "Python 3"
    },
    "language_info": {
      "name": "python"
    },
    "accelerator": "GPU"
  },
  "cells": [
    {
      "cell_type": "markdown",
      "metadata": {
        "id": "view-in-github",
        "colab_type": "text"
      },
      "source": [
        "<a href=\"https://colab.research.google.com/github/mohammadze32/torchamdMLcourse/blob/main/Untitled0.ipynb\" target=\"_parent\"><img src=\"https://colab.research.google.com/assets/colab-badge.svg\" alt=\"Open In Colab\"/></a>"
      ]
    },
    {
      "cell_type": "code",
      "execution_count": 3,
      "metadata": {
        "id": "qKVYxwdSsWlI"
      },
      "outputs": [],
      "source": [
        "import torch"
      ]
    },
    {
      "cell_type": "markdown",
      "source": [
        "###hi this is my `first goole colab notebook and i am very nervous`"
      ],
      "metadata": {
        "id": "vRSOph0A3yEZ"
      }
    },
    {
      "cell_type": "code",
      "source": [
        "scaler = torch.tensor(7  , dtype = torch.int32 , requires_grad = False )\n",
        "scaler"
      ],
      "metadata": {
        "colab": {
          "base_uri": "https://localhost:8080/"
        },
        "id": "BLE5nuUv4DPt",
        "outputId": "df194093-969d-480d-eff3-8f02ecc15642"
      },
      "execution_count": 4,
      "outputs": [
        {
          "output_type": "execute_result",
          "data": {
            "text/plain": [
              "tensor(7, dtype=torch.int32)"
            ]
          },
          "metadata": {},
          "execution_count": 4
        }
      ]
    },
    {
      "cell_type": "markdown",
      "source": [],
      "metadata": {
        "id": "MzJXPCmA4wwJ"
      }
    },
    {
      "cell_type": "markdown",
      "source": [],
      "metadata": {
        "id": "xbYxAKxi4wqU"
      }
    },
    {
      "cell_type": "code",
      "source": [
        "second_scaler = torch.tensor(12 , dtype = torch.float32 , requires_grad = True)"
      ],
      "metadata": {
        "id": "3aU806Gf4lmS"
      },
      "execution_count": 5,
      "outputs": []
    },
    {
      "cell_type": "code",
      "source": [
        "scaler * second_scaler"
      ],
      "metadata": {
        "colab": {
          "base_uri": "https://localhost:8080/"
        },
        "id": "Y7OPa0mw42Ow",
        "outputId": "ad43ec87-6808-444b-e97a-dfcbe37c09f1"
      },
      "execution_count": 6,
      "outputs": [
        {
          "output_type": "execute_result",
          "data": {
            "text/plain": [
              "tensor(84., grad_fn=<MulBackward0>)"
            ]
          },
          "metadata": {},
          "execution_count": 6
        }
      ]
    },
    {
      "cell_type": "code",
      "source": [
        "MATRIX = torch.tensor([12,12],dtype = torch.int32 , device = \"cuda\")\n"
      ],
      "metadata": {
        "id": "JClRme1A5FMD"
      },
      "execution_count": 7,
      "outputs": []
    },
    {
      "cell_type": "code",
      "source": [
        "MATRIX"
      ],
      "metadata": {
        "colab": {
          "base_uri": "https://localhost:8080/"
        },
        "id": "8yaNjg_Z52km",
        "outputId": "39dd192a-a3a9-4150-ca18-cd4173952be0"
      },
      "execution_count": 8,
      "outputs": [
        {
          "output_type": "execute_result",
          "data": {
            "text/plain": [
              "tensor([12, 12], device='cuda:0', dtype=torch.int32)"
            ]
          },
          "metadata": {},
          "execution_count": 8
        }
      ]
    },
    {
      "cell_type": "code",
      "source": [
        "MATRIX * second_scaler"
      ],
      "metadata": {
        "colab": {
          "base_uri": "https://localhost:8080/"
        },
        "id": "oNsef49C58fq",
        "outputId": "b7c3c5c7-5c67-433f-acd3-27d4dd9d3a66"
      },
      "execution_count": 9,
      "outputs": [
        {
          "output_type": "execute_result",
          "data": {
            "text/plain": [
              "tensor([144., 144.], device='cuda:0', grad_fn=<MulBackward0>)"
            ]
          },
          "metadata": {},
          "execution_count": 9
        }
      ]
    },
    {
      "cell_type": "code",
      "source": [
        "randomMATRIX = torch.zeros_like(MATRIX * second_scaler)\n",
        "randomMATRIX"
      ],
      "metadata": {
        "colab": {
          "base_uri": "https://localhost:8080/"
        },
        "id": "hysYFosk6BFT",
        "outputId": "fdba3ae2-a29d-4ff8-afd3-2384f6eaef22"
      },
      "execution_count": 10,
      "outputs": [
        {
          "output_type": "execute_result",
          "data": {
            "text/plain": [
              "tensor([0., 0.], device='cuda:0')"
            ]
          },
          "metadata": {},
          "execution_count": 10
        }
      ]
    },
    {
      "cell_type": "code",
      "source": [
        "newMATRIX = torch.tensor([[[12,12],[11,11]],\n",
        "                          [[12,12],[23,23]]])"
      ],
      "metadata": {
        "id": "tXJU1m7o69s-"
      },
      "execution_count": 11,
      "outputs": []
    },
    {
      "cell_type": "code",
      "source": [
        "newMATRIX.shape , newMATRIX.size()"
      ],
      "metadata": {
        "colab": {
          "base_uri": "https://localhost:8080/"
        },
        "id": "R9qdIW0l7abt",
        "outputId": "c0ab97eb-d3d4-4770-fddc-56a00ebb8155"
      },
      "execution_count": 13,
      "outputs": [
        {
          "output_type": "execute_result",
          "data": {
            "text/plain": [
              "(torch.Size([2, 2, 2]), torch.Size([2, 2, 2]))"
            ]
          },
          "metadata": {},
          "execution_count": 13
        }
      ]
    }
  ]
}