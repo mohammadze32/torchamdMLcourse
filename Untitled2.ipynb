{
  "nbformat": 4,
  "nbformat_minor": 0,
  "metadata": {
    "colab": {
      "provenance": [],
      "authorship_tag": "ABX9TyPqxx4bmuDwTZGXyEAcuRYb",
      "include_colab_link": true
    },
    "kernelspec": {
      "name": "python3",
      "display_name": "Python 3"
    },
    "language_info": {
      "name": "python"
    }
  },
  "cells": [
    {
      "cell_type": "markdown",
      "metadata": {
        "id": "view-in-github",
        "colab_type": "text"
      },
      "source": [
        "<a href=\"https://colab.research.google.com/github/mohammadze32/torchamdMLcourse/blob/main/Untitled2.ipynb\" target=\"_parent\"><img src=\"https://colab.research.google.com/assets/colab-badge.svg\" alt=\"Open In Colab\"/></a>"
      ]
    },
    {
      "cell_type": "markdown",
      "source": [
        "**bold text**\n",
        "In this notebook I want to implement my own neural network from scratch I think I am able to do it."
      ],
      "metadata": {
        "id": "nheCwEj-CgFZ"
      }
    },
    {
      "cell_type": "code",
      "source": [
        "import numpy as np"
      ],
      "metadata": {
        "id": "qFdnPzU4ExRj"
      },
      "execution_count": 1,
      "outputs": []
    },
    {
      "cell_type": "code",
      "execution_count": 7,
      "metadata": {
        "id": "eRlPzifFCZV9"
      },
      "outputs": [],
      "source": [
        "class MLP():\n",
        "  def __init__(self,sizes , activation='sigmoid'):\n",
        "    self.sizes = sizes\n",
        "    self.num_layers = len(sizes) - 1\n",
        "    self.num_hidden_layers = len(sizes) - 2\n",
        "    self.params = self.params_initialization()\n",
        "    if activation == 'sigmoid':\n",
        "      self.activation = self.sigmoid\n",
        "    elif activation == 'relu':\n",
        "      self.activation = self.relu\n",
        "    else:\n",
        "      raise ValueError(\"This activation function is currently not supported!\")\n",
        "    # Save all intermediate values, i.e. A and Z\n",
        "    self.cache = {}\n",
        "  def params_initialization(self):\n",
        "    params={}\n",
        "    for i in range(1, self.num_layers + 1):\n",
        "      input_layer = self.sizes[i - 1]\n",
        "      output_layer = self.sizes[i]\n",
        "      params[f\"W{i}\"] = np.random.randn(output_layer, input_layer) * np.sqrt(1. / input_layer)\n",
        "      params[f\"b{i}\"] = np.zeros((output_layer, 1))\n",
        "    return params\n",
        "  def relu(self , x , derivative=False):\n",
        "    print(\"this relu input , shape of input:\" , x.shape)\n",
        "    if(derivative == True):\n",
        "      output_of_relu  = np.where(x>0 , x , 0)\n",
        "    else :\n",
        "      output_of_relu  = np.where(x>0 , 1 , 0)\n",
        "    return output_of_relu\n",
        "  def sigmoid(self, x, derivative=False):\n",
        "    sig = 1 / (1 + np.exp(-x))\n",
        "    if derivative:\n",
        "      return sig * (1 - sig)\n",
        "    else:\n",
        "      return sig\n",
        "  def feedforward(self , x):\n",
        "    #need to be overview\n",
        "    print(\"This is feedforward layer , input shape is \" , x.shape)\n",
        "    z = x\n",
        "    for i in range(1 , self.num_layers+1):\n",
        "      z = z @ self.params[f\"W{i}\"] + self.params[f\"b{i}\"]\n",
        "      a = self.activation(z)\n",
        "      z = a\n",
        "\n",
        "\n",
        "  def backpropagation(self):\n",
        "    pass\n",
        "  def optimze(self):\n",
        "    pass\n",
        "  def accuracy(self):\n",
        "    pass\n",
        "  def train(self):\n",
        "    pass\n"
      ]
    },
    {
      "cell_type": "markdown",
      "source": [
        "know is just expermient for debugging and finding problems"
      ],
      "metadata": {
        "id": "Tfpa_t13Ca--"
      }
    },
    {
      "cell_type": "code",
      "source": [
        "mlp = MLP([20 , 12, 4, 3] )"
      ],
      "metadata": {
        "id": "w1mXfHHeH53j"
      },
      "execution_count": 11,
      "outputs": []
    },
    {
      "cell_type": "code",
      "source": [
        "mlp.params.keys() , mlp.params['W1'].shape , mlp.params['b1'].shape, mlp.params['W1'] , mlp.params['b1']\n"
      ],
      "metadata": {
        "colab": {
          "base_uri": "https://localhost:8080/"
        },
        "id": "MZX5_aX9IsUX",
        "outputId": "08ed1f9d-d398-4e3b-a113-499474a3063b"
      },
      "execution_count": 19,
      "outputs": [
        {
          "output_type": "execute_result",
          "data": {
            "text/plain": [
              "(dict_keys(['W1', 'b1', 'W2', 'b2', 'W3', 'b3']),\n",
              " (12, 20),\n",
              " (12, 1),\n",
              " array([[-2.34243561e-01, -2.29566414e-01, -5.55223593e-01,\n",
              "          3.83501431e-02,  5.20001023e-01, -1.03938884e-01,\n",
              "         -2.96244064e-01,  1.56295692e-01, -4.66287468e-02,\n",
              "         -1.29868185e-01,  9.06648623e-02,  2.84397004e-01,\n",
              "         -1.56180729e-01,  5.52401073e-03, -1.94289334e-01,\n",
              "         -1.69227208e-02,  1.27996664e-01, -9.75673030e-02,\n",
              "         -8.42555383e-02,  9.12739939e-03],\n",
              "        [ 2.15763245e-01,  1.52984494e-01,  1.78366821e-01,\n",
              "         -3.80898562e-01,  2.70761727e-01, -3.12090868e-01,\n",
              "         -3.65560120e-01, -1.24259863e-01, -1.68499793e-01,\n",
              "          2.35264221e-01,  6.49176902e-03, -1.81839100e-01,\n",
              "          2.11270949e-01,  1.55118347e-01, -3.99093948e-02,\n",
              "          1.63268998e-01,  1.41592004e-01, -2.23180369e-01,\n",
              "          4.03929190e-01, -4.55814653e-02],\n",
              "        [-1.68173681e-01,  3.00084469e-01, -1.46603970e-01,\n",
              "         -8.52214322e-02, -1.75726395e-01,  2.75935282e-01,\n",
              "          8.59572890e-02, -5.10152477e-02, -1.41409131e-01,\n",
              "         -1.48013728e-01,  4.04627170e-01,  1.94648594e-01,\n",
              "          1.90252977e-01, -2.25785602e-01, -3.35793574e-01,\n",
              "         -3.24714275e-01,  6.10225954e-02, -2.99356982e-01,\n",
              "         -1.48028321e-01, -9.22838784e-02],\n",
              "        [-3.27642907e-01, -1.02263212e-01,  3.60878877e-01,\n",
              "          3.73067610e-02,  1.87647617e-01, -3.09791350e-01,\n",
              "          8.30337314e-02, -6.36171724e-02, -3.35886952e-01,\n",
              "         -3.97823104e-01, -3.15310880e-01,  2.36840348e-01,\n",
              "         -2.02468176e-01, -3.01961798e-01,  5.54301731e-01,\n",
              "         -4.34872946e-01, -7.50753726e-02,  5.60429214e-02,\n",
              "          2.03792983e-01,  2.72156663e-02],\n",
              "        [ 6.68185559e-01,  2.47639749e-01,  2.61459464e-02,\n",
              "          7.58523358e-02,  2.15726871e-01,  1.21325577e-02,\n",
              "          7.99161484e-02, -6.73996355e-02, -6.44459844e-03,\n",
              "          6.31255316e-01,  4.36882324e-02, -2.36801399e-01,\n",
              "          9.15661953e-02,  8.29791059e-02,  4.00353911e-01,\n",
              "         -2.41610873e-01, -1.53996596e-01,  2.75576885e-01,\n",
              "          2.44003058e-01, -6.88314588e-02],\n",
              "        [ 1.11819228e-01, -1.74353836e-02,  2.97099878e-01,\n",
              "          4.18936493e-01, -9.97575409e-02,  2.48568554e-01,\n",
              "          2.60128053e-02,  3.56393178e-01,  3.30818961e-01,\n",
              "         -3.41964512e-01,  2.29015654e-01, -8.70571437e-03,\n",
              "         -3.15160277e-01,  4.70626399e-02,  1.91521390e-01,\n",
              "         -6.08814892e-02, -8.31446143e-02, -6.75394411e-02,\n",
              "          1.31524428e-01, -1.35563964e-02],\n",
              "        [-1.29593539e-01,  1.31313198e-01,  1.52299759e-01,\n",
              "         -3.74950720e-01,  4.27424796e-01, -4.46716136e-01,\n",
              "          7.95517193e-04, -4.94561809e-02,  3.91584122e-01,\n",
              "          1.85452323e-01, -2.23843395e-01, -3.69009959e-01,\n",
              "          6.25992782e-02,  1.65297314e-01, -2.11476976e-01,\n",
              "          8.01273665e-02,  2.92665569e-01,  4.43813716e-02,\n",
              "         -3.24543405e-02,  5.94554121e-02],\n",
              "        [ 1.88729334e-01, -2.02368638e-01, -2.02325386e-01,\n",
              "         -4.32550633e-01,  6.90017190e-01, -4.05168353e-01,\n",
              "          3.54484275e-01,  2.51957649e-01, -3.01993129e-01,\n",
              "         -4.41690858e-02, -1.17481731e-01, -2.46905097e-01,\n",
              "         -3.03147967e-01, -4.39852681e-01, -6.39497678e-02,\n",
              "          2.54679012e-01,  7.75180780e-02, -1.30923585e-01,\n",
              "          1.61987425e-01,  1.54745082e-01],\n",
              "        [ 2.28096961e-01, -1.86110337e-01,  1.89690692e-01,\n",
              "          5.12309680e-02, -1.01544522e-01,  1.01091934e-01,\n",
              "         -3.00071992e-01,  2.05712538e-01, -1.87346709e-01,\n",
              "         -8.71300054e-02, -7.63402829e-02,  1.33730603e-01,\n",
              "          1.05393539e-01,  5.50974625e-01, -3.25861692e-02,\n",
              "          8.16602041e-02,  8.23086890e-02, -2.95466869e-01,\n",
              "         -2.39325894e-01, -9.83645617e-03],\n",
              "        [ 4.30647453e-02,  2.50191015e-01, -1.48463566e-01,\n",
              "         -2.33598050e-01, -5.93649369e-03,  3.77111013e-01,\n",
              "          7.12776741e-02, -5.43120180e-02, -1.15316281e-01,\n",
              "         -3.69407558e-01,  2.67791401e-01, -8.11842096e-01,\n",
              "         -7.44967420e-02,  6.09821303e-02, -1.28744716e-01,\n",
              "         -8.94824681e-02, -1.39022684e-01, -7.33977966e-02,\n",
              "         -8.13740490e-03, -4.23425080e-02],\n",
              "        [-1.11524503e-01, -4.77856437e-01,  2.24138248e-01,\n",
              "         -7.90210565e-03,  8.77158425e-02,  4.85400685e-01,\n",
              "          7.41342848e-02, -1.38715024e-01, -1.85180600e-01,\n",
              "          3.75592006e-03,  6.12174248e-03,  1.95658600e-01,\n",
              "          4.17478530e-01,  2.38973656e-01,  1.23545291e-01,\n",
              "          1.35024806e-01, -4.49757170e-02, -1.61226197e-01,\n",
              "          4.99809637e-01, -1.26199522e-02],\n",
              "        [ 8.54580735e-02, -2.23443144e-01,  2.03438774e-01,\n",
              "          2.86782909e-01,  1.29621018e-02,  1.63649975e-01,\n",
              "          1.80605971e-01,  1.48120754e-01,  4.88329536e-02,\n",
              "          1.79537391e-01, -3.21313530e-01,  5.84498514e-02,\n",
              "          1.51269298e-01, -4.67855542e-02, -1.20109314e-01,\n",
              "          5.31517112e-01, -3.74301531e-01, -1.87086234e-02,\n",
              "          2.95111139e-01, -1.18638361e-01]]),\n",
              " array([[0.],\n",
              "        [0.],\n",
              "        [0.],\n",
              "        [0.],\n",
              "        [0.],\n",
              "        [0.],\n",
              "        [0.],\n",
              "        [0.],\n",
              "        [0.],\n",
              "        [0.],\n",
              "        [0.],\n",
              "        [0.]]))"
            ]
          },
          "metadata": {},
          "execution_count": 19
        }
      ]
    }
  ]
}